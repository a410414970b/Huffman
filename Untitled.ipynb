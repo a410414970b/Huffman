{
 "cells": [
  {
   "cell_type": "code",
   "execution_count": 4,
   "metadata": {
    "collapsed": true
   },
   "outputs": [],
   "source": [
    "Graph_V=['a','b','c','d','e','f','g','h','i']\n",
    "Graph_E=[['ab',4],['ah',8],['bc',8],['bh',11],['cd',7],['cf',4],['ci',2],['de',9],['df',14],['ef',10],['fg',2]\n",
    "         ,['gh',1],['gi',6],['hi',7]]"
   ]
  },
  {
   "cell_type": "code",
   "execution_count": 17,
   "metadata": {},
   "outputs": [],
   "source": [
    "import math\n",
    "class Node:\n",
    "    def __init__(self,key):\n",
    "        self.key=key\n",
    "        self.parent=None\n",
    "        self.value=math.inf\n",
    "class MST_Prim:\n",
    "    def __init__(self,v,e):\n",
    "        self.v=v\n",
    "        self.e=e\n",
    "        print (id(self.v[0].key))\n",
    "        for i in range (len(self.v)):#初始化各節點的值\n",
    "            self.v[i]=Node(self.v[i])\n",
    "        self.vNew=[self.v[0]]#已連線的節點\n",
    "        self.eNew=[e[0],e[1]]#目前可連線的邊\n",
    "        self.v.remove(self.vNew[0])\n",
    "        #self.vNew[0].key=0\n",
    "    def run(self):\n",
    "        minW=[\"\",math.inf]\n",
    "        index=math.inf\n",
    "        while self.v:\n",
    "            for i in range (len(self.eNew)):#找可連線的最小權重邊\n",
    "                if self.eNew[i][1]<minW[1]:\n",
    "                    minW=self.eNew[i]\n",
    "                    index=i\n",
    "                 #   print (index)\n",
    "            if self.vNew[-1].key==minW[0][0]:#判斷連線到的新節點是哪個\n",
    "                self.vNew[-1].value=minW[1]\n",
    "             #  self.vNew.append(self.v[self.v.index(minW[0][1])])#將新節點加入到Vnew的最後面\n",
    "                for i in range (len(self.v)):\n",
    "                    if self.v[i].key==minW[0][1]:\n",
    "                        self.vNew.append(self.v[i])#將新節點加入到Vnew的最後面\n",
    "                        del self.v[i]\n",
    "                self.vNew[-1].parent=self.vNew[-2].key\n",
    "            else:\n",
    "                self.vNew[-1].value=minW[1]\n",
    "                for i in range (len(self.v)):\n",
    "                    if self.v[i].key==minW[0][0]:\n",
    "                        self.vNew.append(self.v[i])#將新節點加入到Vnew的最後面\n",
    "                        del self.v[i]\n",
    "                self.vNew[-1].parent=self.vNew[-2].key\n",
    "        #    self.v.remove(self.vNew[len(self.vNew)-1])#將新節點在v陣列中刪除\n",
    "            del self.eNew[index]#將剛剛連線的邊刪除，不再可連線\n",
    "            \n",
    "            for i in range (len(self.e)):#將新節點可連線的邊加入eNew中\n",
    "                if self.e[i][0]==self.vNew[-1].key:\n",
    "                    self.eNew.append(self.e[i])\n",
    "                    print ('a')"
   ]
  },
  {
   "cell_type": "code",
   "execution_count": 18,
   "metadata": {},
   "outputs": [
    {
     "name": "stdout",
     "output_type": "stream",
     "text": [
      "927057097280\n"
     ]
    },
    {
     "ename": "IndexError",
     "evalue": "list index out of range",
     "output_type": "error",
     "traceback": [
      "\u001b[1;31m---------------------------------------------------------------------------\u001b[0m",
      "\u001b[1;31mIndexError\u001b[0m                                Traceback (most recent call last)",
      "\u001b[1;32m<ipython-input-18-63f2846f2411>\u001b[0m in \u001b[0;36m<module>\u001b[1;34m()\u001b[0m\n\u001b[0;32m      1\u001b[0m \u001b[0mP\u001b[0m \u001b[1;33m=\u001b[0m \u001b[0mMST_Prim\u001b[0m\u001b[1;33m(\u001b[0m\u001b[0mGraph_V\u001b[0m\u001b[1;33m,\u001b[0m\u001b[0mGraph_E\u001b[0m\u001b[1;33m)\u001b[0m\u001b[1;33m\u001b[0m\u001b[0m\n\u001b[1;32m----> 2\u001b[1;33m \u001b[0mP\u001b[0m\u001b[1;33m.\u001b[0m\u001b[0mrun\u001b[0m\u001b[1;33m(\u001b[0m\u001b[1;33m)\u001b[0m\u001b[1;33m\u001b[0m\u001b[0m\n\u001b[0m\u001b[0;32m      3\u001b[0m \u001b[1;32mfor\u001b[0m \u001b[0mi\u001b[0m \u001b[1;32min\u001b[0m \u001b[0mrange\u001b[0m \u001b[1;33m(\u001b[0m\u001b[0mlen\u001b[0m\u001b[1;33m(\u001b[0m\u001b[0mP\u001b[0m\u001b[1;33m.\u001b[0m\u001b[0mvNew\u001b[0m\u001b[1;33m)\u001b[0m\u001b[1;33m)\u001b[0m\u001b[1;33m:\u001b[0m\u001b[1;33m\u001b[0m\u001b[0m\n\u001b[0;32m      4\u001b[0m     \u001b[0mprint\u001b[0m \u001b[1;33m(\u001b[0m\u001b[0mP\u001b[0m\u001b[1;33m.\u001b[0m\u001b[0mvNew\u001b[0m\u001b[1;33m[\u001b[0m\u001b[0mi\u001b[0m\u001b[1;33m]\u001b[0m\u001b[1;33m.\u001b[0m\u001b[0mvalue\u001b[0m\u001b[1;33m)\u001b[0m\u001b[1;33m\u001b[0m\u001b[0m\n",
      "\u001b[1;32m<ipython-input-17-264bd0619df0>\u001b[0m in \u001b[0;36mrun\u001b[1;34m(self)\u001b[0m\n\u001b[0;32m     39\u001b[0m                         \u001b[0mself\u001b[0m\u001b[1;33m.\u001b[0m\u001b[0mvNew\u001b[0m\u001b[1;33m.\u001b[0m\u001b[0mappend\u001b[0m\u001b[1;33m(\u001b[0m\u001b[0mself\u001b[0m\u001b[1;33m.\u001b[0m\u001b[0mv\u001b[0m\u001b[1;33m[\u001b[0m\u001b[0mi\u001b[0m\u001b[1;33m]\u001b[0m\u001b[1;33m)\u001b[0m\u001b[1;31m#將新節點加入到Vnew的最後面\u001b[0m\u001b[1;33m\u001b[0m\u001b[0m\n\u001b[0;32m     40\u001b[0m                         \u001b[1;32mdel\u001b[0m \u001b[0mself\u001b[0m\u001b[1;33m.\u001b[0m\u001b[0mv\u001b[0m\u001b[1;33m[\u001b[0m\u001b[0mi\u001b[0m\u001b[1;33m]\u001b[0m\u001b[1;33m\u001b[0m\u001b[0m\n\u001b[1;32m---> 41\u001b[1;33m                 \u001b[0mself\u001b[0m\u001b[1;33m.\u001b[0m\u001b[0mvNew\u001b[0m\u001b[1;33m[\u001b[0m\u001b[1;33m-\u001b[0m\u001b[1;36m1\u001b[0m\u001b[1;33m]\u001b[0m\u001b[1;33m.\u001b[0m\u001b[0mparent\u001b[0m\u001b[1;33m=\u001b[0m\u001b[0mself\u001b[0m\u001b[1;33m.\u001b[0m\u001b[0mvNew\u001b[0m\u001b[1;33m[\u001b[0m\u001b[1;33m-\u001b[0m\u001b[1;36m2\u001b[0m\u001b[1;33m]\u001b[0m\u001b[1;33m.\u001b[0m\u001b[0mkey\u001b[0m\u001b[1;33m\u001b[0m\u001b[0m\n\u001b[0m\u001b[0;32m     42\u001b[0m         \u001b[1;31m#    self.v.remove(self.vNew[len(self.vNew)-1])#將新節點在v陣列中刪除\u001b[0m\u001b[1;33m\u001b[0m\u001b[1;33m\u001b[0m\u001b[0m\n\u001b[0;32m     43\u001b[0m             \u001b[1;32mdel\u001b[0m \u001b[0mself\u001b[0m\u001b[1;33m.\u001b[0m\u001b[0meNew\u001b[0m\u001b[1;33m[\u001b[0m\u001b[0mindex\u001b[0m\u001b[1;33m]\u001b[0m\u001b[1;31m#將剛剛連線的邊刪除，不再可連線\u001b[0m\u001b[1;33m\u001b[0m\u001b[0m\n",
      "\u001b[1;31mIndexError\u001b[0m: list index out of range"
     ]
    }
   ],
   "source": [
    "P = MST_Prim(Graph_V,Graph_E)\n",
    "P.run()\n",
    "for i in range (len(P.vNew)):\n",
    "    print (P.vNew[i].value)"
   ]
  },
  {
   "cell_type": "code",
   "execution_count": null,
   "metadata": {
    "collapsed": true
   },
   "outputs": [],
   "source": []
  }
 ],
 "metadata": {
  "kernelspec": {
   "display_name": "Python 3",
   "language": "python",
   "name": "python3"
  },
  "language_info": {
   "codemirror_mode": {
    "name": "ipython",
    "version": 3
   },
   "file_extension": ".py",
   "mimetype": "text/x-python",
   "name": "python",
   "nbconvert_exporter": "python",
   "pygments_lexer": "ipython3",
   "version": "3.6.2"
  }
 },
 "nbformat": 4,
 "nbformat_minor": 2
}
