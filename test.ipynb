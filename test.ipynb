{
 "cells": [
  {
   "cell_type": "code",
   "execution_count": 1,
   "metadata": {
    "collapsed": true
   },
   "outputs": [],
   "source": [
    "class Node:\n",
    "    #定義初始化\n",
    "    def __init__(self,char,freq):\n",
    "        self.char = char #字元\n",
    "        self.freq = freq #頻率\n",
    "        self.right = None #右節點\n",
    "        self.left = None  #左節點\n",
    "    \n",
    "   \n",
    "    def __eq__(self, other):\n",
    "        if other == None:\n",
    "            return False\n",
    "        return self.freq == other.freq\n",
    "\n",
    "    def __ne__(self, other):\n",
    "        return self.freq != other.freq\n",
    "\n",
    "    def __lt__(self, other):\n",
    "        return self.freq < other.freq\n",
    "\n",
    "    def __le__(self, other):\n",
    "        return self.freq <= other.freq\n",
    "\n",
    "    def __gt__(self, other):\n",
    "        return self.freq > other.freq\n",
    "\n",
    "    def __ge__(self, other):\n",
    "        return self.freq >= other.freq\n",
    "    def __repr__(self):\n",
    "        return str(self.char) + \" \" + str(self.freq)\n",
    "        "
   ]
  },
  {
   "cell_type": "code",
   "execution_count": 2,
   "metadata": {},
   "outputs": [
    {
     "data": {
      "text/plain": [
       "{'a': 7, 'd': 6, 'k': 6, 'o': 3, 'p': 2, 's': 5}"
      ]
     },
     "execution_count": 2,
     "metadata": {},
     "output_type": "execute_result"
    }
   ],
   "source": [
    "text = \"askdoasodsaadkapdksakdpkoasdk\"\n",
    "dictionary = {}  #頻率字典\n",
    "for character in text:  #裡面的每個字元\n",
    "    if not character in dictionary:\n",
    "        dictionary[character] = 0\n",
    "    dictionary[character] += 1\n",
    "dictionary"
   ]
  },
  {
   "cell_type": "code",
   "execution_count": 3,
   "metadata": {
    "collapsed": true
   },
   "outputs": [],
   "source": [
    "from heapq import heappush, heappop\n",
    "heap = []\n",
    "\n",
    "for key in dictionary:\n",
    "    node = Node(key,dictionary[key])\n",
    "    heappush(heap,node)\n",
    "\n",
    "#for i in range(len(heap)):\n",
    " #   print(heappop(heap))"
   ]
  },
  {
   "cell_type": "code",
   "execution_count": 4,
   "metadata": {},
   "outputs": [
    {
     "ename": "NameError",
     "evalue": "name 'HeapNode' is not defined",
     "output_type": "error",
     "traceback": [
      "\u001b[1;31m---------------------------------------------------------------------------\u001b[0m",
      "\u001b[1;31mNameError\u001b[0m                                 Traceback (most recent call last)",
      "\u001b[1;32m<ipython-input-4-c067fffdbed8>\u001b[0m in \u001b[0;36m<module>\u001b[1;34m()\u001b[0m\n\u001b[0;32m      4\u001b[0m     \u001b[0mnode2\u001b[0m \u001b[1;33m=\u001b[0m \u001b[0mheappop\u001b[0m\u001b[1;33m(\u001b[0m\u001b[0mheap\u001b[0m\u001b[1;33m)\u001b[0m\u001b[1;33m\u001b[0m\u001b[0m\n\u001b[0;32m      5\u001b[0m \u001b[1;33m\u001b[0m\u001b[0m\n\u001b[1;32m----> 6\u001b[1;33m     \u001b[0mmerge\u001b[0m \u001b[1;33m=\u001b[0m \u001b[0mHeapNode\u001b[0m\u001b[1;33m(\u001b[0m\u001b[1;32mNone\u001b[0m \u001b[1;33m,\u001b[0m \u001b[0mnode1\u001b[0m\u001b[1;33m.\u001b[0m\u001b[0mfreq\u001b[0m\u001b[1;33m+\u001b[0m\u001b[0mnode2\u001b[0m\u001b[1;33m.\u001b[0m\u001b[0mfreq\u001b[0m\u001b[1;33m)\u001b[0m \u001b[1;31m#合成兩個頻率\u001b[0m\u001b[1;33m\u001b[0m\u001b[0m\n\u001b[0m\u001b[0;32m      7\u001b[0m     \u001b[0mmerge\u001b[0m\u001b[1;33m.\u001b[0m\u001b[0mleft\u001b[0m \u001b[1;33m=\u001b[0m \u001b[0mnode1\u001b[0m\u001b[1;33m\u001b[0m\u001b[0m\n\u001b[0;32m      8\u001b[0m     \u001b[0mmerge\u001b[0m\u001b[1;33m.\u001b[0m\u001b[0mright\u001b[0m \u001b[1;33m=\u001b[0m \u001b[0mnode2\u001b[0m\u001b[1;33m\u001b[0m\u001b[0m\n",
      "\u001b[1;31mNameError\u001b[0m: name 'HeapNode' is not defined"
     ]
    }
   ],
   "source": [
    "while(len(heap)>1):\n",
    "    #取在heap中最小頻率的兩個node\n",
    "    node1 = heappop(heap)\n",
    "    node2 = heappop(heap)\n",
    "    \n",
    "    merge = HeapNode(None , node1.freq+node2.freq) #合成兩個頻率\n",
    "    merge.left = node1  \n",
    "    merge.right = node2\n",
    "    \n",
    "    heappush(heap,merge)\n",
    "    #for i in range(len(heap)):\n",
    "     #   print(heappop(heap))\n",
    "    "
   ]
  },
  {
   "cell_type": "code",
   "execution_count": 163,
   "metadata": {
    "collapsed": true
   },
   "outputs": [],
   "source": [
    "code = {}\n",
    "mapping = {}\n",
    "def makecode_method(root,current_code):\n",
    "    if root.right == None and root.left == None : #左右子節點都是NONE得時候 新增現在NODE的 編碼 然後RETURN\n",
    "        code[root.char] = current_code\n",
    "        mapping[current_code] = root.char\n",
    "        return\n",
    "    makecode_method(root.left,current_code + \"0\")\n",
    "    makecode_method(root.right,current_code + \"1\")\n"
   ]
  },
  {
   "cell_type": "code",
   "execution_count": 164,
   "metadata": {},
   "outputs": [
    {
     "data": {
      "text/plain": [
       "{'00': 'k', '01': 'd', '10': 'a', '110': 's', '1110': 'p', '1111': 'o'}"
      ]
     },
     "execution_count": 164,
     "metadata": {},
     "output_type": "execute_result"
    }
   ],
   "source": [
    "root = heappop(heap)\n",
    "current_code= \"\"\n",
    "makecode_method(root,current_code)\n",
    "mapping"
   ]
  },
  {
   "cell_type": "code",
   "execution_count": null,
   "metadata": {
    "collapsed": true
   },
   "outputs": [],
   "source": []
  },
  {
   "cell_type": "code",
   "execution_count": null,
   "metadata": {
    "collapsed": true
   },
   "outputs": [],
   "source": []
  }
 ],
 "metadata": {
  "kernelspec": {
   "display_name": "Python 3",
   "language": "python",
   "name": "python3"
  },
  "language_info": {
   "codemirror_mode": {
    "name": "ipython",
    "version": 3
   },
   "file_extension": ".py",
   "mimetype": "text/x-python",
   "name": "python",
   "nbconvert_exporter": "python",
   "pygments_lexer": "ipython3",
   "version": "3.6.2"
  }
 },
 "nbformat": 4,
 "nbformat_minor": 2
}
